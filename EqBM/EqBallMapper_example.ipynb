{
 "cells": [
  {
   "attachments": {},
   "cell_type": "markdown",
   "metadata": {},
   "source": [
    "Example notebook showing how to create a Ball Mapper graph on the space of Alexander polynomials coefficients, and an Equivariant Ball Mapper on Jones polinomials coefficients.\n",
    "\n",
    "Includes Bokeh interactive plotting."
   ]
  },
  {
   "cell_type": "code",
   "execution_count": null,
   "metadata": {},
   "outputs": [],
   "source": [
    "import numpy as np\n",
    "import pandas as pd\n",
    "import pickle"
   ]
  },
  {
   "cell_type": "code",
   "execution_count": null,
   "metadata": {},
   "outputs": [],
   "source": [
    "import sys\n",
    "sys.path.append('../')\n",
    "\n",
    "from src.ballmapper import BallMapper"
   ]
  },
  {
   "attachments": {},
   "cell_type": "markdown",
   "metadata": {},
   "source": [
    "## Alexander up to 15 crossings"
   ]
  },
  {
   "cell_type": "code",
   "execution_count": null,
   "metadata": {},
   "outputs": [],
   "source": [
    "print('loading alexander')\n",
    "alex_df = pd.read_csv('../data/parsed/Alexander/Alexander_upto_17.csv')\n",
    "alex_df = alex_df[alex_df.number_of_crossings <= 15]\n",
    "print(alex_df.shape)"
   ]
  },
  {
   "cell_type": "code",
   "execution_count": null,
   "metadata": {},
   "outputs": [],
   "source": [
    "alex_df.head()"
   ]
  },
  {
   "cell_type": "code",
   "execution_count": null,
   "metadata": {},
   "outputs": [],
   "source": [
    "X = alex_df[alex_df.columns[8:]].to_numpy()\n",
    "y = alex_df[['number_of_crossings', 'is_alternating', 'signature']].copy()\n",
    "y['signature_mod4'] = y.signature % 4"
   ]
  },
  {
   "cell_type": "code",
   "execution_count": null,
   "metadata": {},
   "outputs": [],
   "source": [
    "alex_BM = BallMapper(X, eps=50, dbg=True)"
   ]
  },
  {
   "cell_type": "markdown",
   "metadata": {},
   "source": [
    "### Plotting"
   ]
  },
  {
   "cell_type": "code",
   "execution_count": null,
   "metadata": {},
   "outputs": [],
   "source": [
    "from src.plotting import graph_GUI"
   ]
  },
  {
   "cell_type": "code",
   "execution_count": null,
   "metadata": {},
   "outputs": [],
   "source": [
    "from bokeh.plotting import figure, show\n",
    "from matplotlib import cm"
   ]
  },
  {
   "cell_type": "code",
   "execution_count": null,
   "metadata": {},
   "outputs": [],
   "source": [
    "# create a GUI with input our BM graph, \n",
    "# we need color palette \n",
    "my_palette = cm.get_cmap(name='Reds')\n",
    "\n",
    "# and a dataframe with coloring functions (one value per point in the pointcloud)\n",
    "# we use the points themself as coloring functions\n",
    "alex_BM.add_coloring(coloring_df=y)\n",
    "my_fancy_gui = graph_GUI(alex_BM.Graph, \n",
    "                         my_palette, \n",
    "                         tooltips_variables=y.columns,\n",
    "                        render_iterations=1000)\n",
    "my_fancy_gui.color_by_variable('signature_mod4')"
   ]
  },
  {
   "cell_type": "code",
   "execution_count": null,
   "metadata": {},
   "outputs": [],
   "source": [
    "# creates an html file with the graph \n",
    "# and opens it in another tab\n",
    "show(my_fancy_gui.plot)"
   ]
  },
  {
   "cell_type": "code",
   "execution_count": null,
   "metadata": {},
   "outputs": [],
   "source": [
    "with open('pkl/alexander_bm.pkl', 'wb') as f:\n",
    "    pickle.dump(alex_BM.Graph, f)"
   ]
  },
  {
   "cell_type": "markdown",
   "metadata": {},
   "source": [
    "## Jones up to 15 crossings"
   ]
  },
  {
   "cell_type": "code",
   "execution_count": null,
   "metadata": {},
   "outputs": [],
   "source": [
    "print('loading jones')\n",
    "jones_df = pd.read_csv('../data/parsed/Jones/Jones_upto_15_MIRRORS.csv')\n",
    "print(jones_df.shape)"
   ]
  },
  {
   "cell_type": "code",
   "execution_count": null,
   "metadata": {},
   "outputs": [],
   "source": [
    "jones_df.head()"
   ]
  },
  {
   "cell_type": "code",
   "execution_count": null,
   "metadata": {},
   "outputs": [],
   "source": [
    "X = jones_df[jones_df.columns[8:]].to_numpy()\n",
    "y = jones_df[['number_of_crossings', 'is_alternating', 'signature']]"
   ]
  },
  {
   "cell_type": "code",
   "execution_count": null,
   "metadata": {},
   "outputs": [],
   "source": [
    "# create orbits\n",
    "orbits = [] \n",
    "\n",
    "for i in range(0, len(X), 2):\n",
    "    orbits.append([i, i+1])\n",
    "    orbits.append([i+1, i])"
   ]
  },
  {
   "cell_type": "code",
   "execution_count": null,
   "metadata": {},
   "outputs": [],
   "source": [
    "jones_BM = BallMapper(X, eps=50, dbg=True)"
   ]
  },
  {
   "cell_type": "markdown",
   "metadata": {},
   "source": [
    "### Plotting"
   ]
  },
  {
   "cell_type": "code",
   "execution_count": null,
   "metadata": {},
   "outputs": [],
   "source": [
    "from src.plotting import graph_GUI"
   ]
  },
  {
   "cell_type": "code",
   "execution_count": null,
   "metadata": {},
   "outputs": [],
   "source": [
    "from bokeh.plotting import figure, show\n",
    "from matplotlib import cm"
   ]
  },
  {
   "cell_type": "code",
   "execution_count": null,
   "metadata": {},
   "outputs": [],
   "source": [
    "# create a GUI with input our BM graph, \n",
    "# we need color palette \n",
    "my_palette = cm.get_cmap(name='jet')\n",
    "\n",
    "# and a dataframe with coloring functions (one value per point in the pointcloud)\n",
    "# we use the points themself as coloring functions\n",
    "jones_BM.add_coloring(coloring_df=y)\n",
    "my_fancy_gui = graph_GUI(jones_BM.Graph, \n",
    "                         my_palette, \n",
    "                         tooltips_variables=y.columns,\n",
    "                         render_iterations=1000)\n",
    "my_fancy_gui.color_by_variable('signature')"
   ]
  },
  {
   "cell_type": "code",
   "execution_count": null,
   "metadata": {},
   "outputs": [],
   "source": [
    "# creates an html file with the graph \n",
    "# and opens it in another tab\n",
    "show(my_fancy_gui.plot)"
   ]
  },
  {
   "cell_type": "code",
   "execution_count": null,
   "metadata": {},
   "outputs": [],
   "source": [
    "with open('pkl/jones_bm.pkl', 'wb') as f:\n",
    "    pickle.dump(jones_BM.Graph, f)"
   ]
  }
 ],
 "metadata": {
  "kernelspec": {
   "display_name": "knots",
   "language": "python",
   "name": "python3"
  },
  "language_info": {
   "codemirror_mode": {
    "name": "ipython",
    "version": 3
   },
   "file_extension": ".py",
   "mimetype": "text/x-python",
   "name": "python",
   "nbconvert_exporter": "python",
   "pygments_lexer": "ipython3",
   "version": "3.9.13"
  },
  "orig_nbformat": 4,
  "vscode": {
   "interpreter": {
    "hash": "30434cb9c1aee1e0b71a087eb7f566a80fbdf8f25b08ac5af0432b9ba7f5ea43"
   }
  }
 },
 "nbformat": 4,
 "nbformat_minor": 2
}
