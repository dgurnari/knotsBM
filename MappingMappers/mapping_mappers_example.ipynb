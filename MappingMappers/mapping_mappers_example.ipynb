{
 "cells": [
  {
   "cell_type": "code",
   "execution_count": 1,
   "metadata": {},
   "outputs": [],
   "source": [
    "import networkx as nx\n",
    "import numpy as np\n",
    "import pandas as pd\n",
    "from math import sqrt\n",
    "import csv\n",
    "import sys"
   ]
  },
  {
   "cell_type": "code",
   "execution_count": 2,
   "metadata": {},
   "outputs": [],
   "source": [
    "from tqdm.notebook import tqdm"
   ]
  },
  {
   "cell_type": "code",
   "execution_count": 3,
   "metadata": {},
   "outputs": [],
   "source": [
    "from pyBallMapper_Bokeh import graph_GUI, read_graph_from_list"
   ]
  },
  {
   "cell_type": "code",
   "execution_count": 4,
   "metadata": {},
   "outputs": [],
   "source": [
    "from matplotlib.colors import ListedColormap\n",
    "from matplotlib import cm\n",
    "from matplotlib.colors import to_hex\n"
   ]
  },
  {
   "cell_type": "code",
   "execution_count": 5,
   "metadata": {},
   "outputs": [],
   "source": [
    "from bokeh.plotting import figure, show"
   ]
  },
  {
   "cell_type": "code",
   "execution_count": 6,
   "metadata": {},
   "outputs": [],
   "source": [
    "# to deal with large csv\n",
    "maxInt = sys.maxsize\n",
    "decrement = True\n",
    "\n",
    "while decrement:\n",
    "    # decrease the maxInt value by factor 10\n",
    "    # as long as the OverflowError occurs.\n",
    "    decrement = False\n",
    "    try:\n",
    "        csv.field_size_limit(maxInt)\n",
    "    except OverflowError:\n",
    "        maxInt = int(maxInt/10)\n",
    "        decrement = True"
   ]
  },
  {
   "cell_type": "markdown",
   "metadata": {},
   "source": [
    "## Read the graphs"
   ]
  },
  {
   "cell_type": "markdown",
   "metadata": {},
   "source": [
    "Each graph must be rapresented by an adjecency list (space separated)  \n",
    "We assume nodes are numbered from 1 to N  \n",
    "  \n",
    "The list of points covereb by each node is a file with N lines, each line contains the points id (space separated) "
   ]
  },
  {
   "cell_type": "markdown",
   "metadata": {},
   "source": [
    "# ALEX VS JONES"
   ]
  },
  {
   "cell_type": "code",
   "execution_count": 7,
   "metadata": {},
   "outputs": [],
   "source": [
    "#Here we adopt standard colour palette\n",
    "my_red_palette = cm.get_cmap(name='jet')\n",
    "#my_red_palette = cm.get_cmap(name='Reds')"
   ]
  },
  {
   "cell_type": "code",
   "execution_count": 9,
   "metadata": {},
   "outputs": [
    {
     "name": "stdout",
     "output_type": "stream",
     "text": [
      "loading edgelist\n",
      "loading points covered\n"
     ]
    },
    {
     "data": {
      "application/vnd.jupyter.widget-view+json": {
       "model_id": "ea0241d5128949458a58ee53de7ceee6",
       "version_major": 2,
       "version_minor": 0
      },
      "text/plain": [
       "0it [00:00, ?it/s]"
      ]
     },
     "metadata": {},
     "output_type": "display_data"
    },
    {
     "name": "stdout",
     "output_type": "stream",
     "text": [
      "computing coloring\n"
     ]
    },
    {
     "data": {
      "application/vnd.jupyter.widget-view+json": {
       "model_id": "98439dd3d69d4560b7515378643caaf9",
       "version_major": 2,
       "version_minor": 0
      },
      "text/plain": [
       "  0%|          | 0/163 [00:00<?, ?it/s]"
      ]
     },
     "metadata": {},
     "output_type": "display_data"
    }
   ],
   "source": [
    "# Prepare Data\n",
    "\n",
    "# adj lists path\n",
    "GRAPH1_PATH = 'BM/alex_upto17_RAW/100_edges'\n",
    "GRAPH2_PATH = 'BM/jones_upto17_SYMM/100_edges'\n",
    "\n",
    "# point covered by each node path\n",
    "GRAPH1_POINTS_PATH = 'BM/alex_upto17_RAW/100_points_covered_by_landmarks'\n",
    "GRAPH2_POINTS_PATH = 'BM/jones_upto17_SYMM/100_points_covered_by_landmarks'\n",
    "\n",
    "###########\n",
    "# GRAPH 1 #\n",
    "###########\n",
    "\n",
    "# read graph\n",
    "# ASSUME NODES ARE NUMBERED FROM 1 TO N\n",
    "G1 = read_graph_from_list(GRAPH1_PATH, GRAPH1_POINTS_PATH, add_points_covered=True)\n",
    "\n",
    "###########\n",
    "# GRAPH 2 #\n",
    "###########\n",
    "#G2 = read_graph_from_list(GRAPH2_PATH, GRAPH2_POINTS_PATH, add_points_covered=True)"
   ]
  },
  {
   "cell_type": "code",
   "execution_count": 10,
   "metadata": {},
   "outputs": [],
   "source": [
    "colors_dict = {1: [130, 131, 132, 136, 138, 140, 142, 143, 148, 149, 117, 151, 121, 155, 125],\n",
    "               2: [128, 100, 101, 104, 106, 107, 108, 109, 112, 81, 115, 116, 84, 119, 88, 91, 93, 94],\n",
    "               3: [13, 19, 24, 26, 27, 33, 35, 38, 40, 43, 45, 64, 65, 66, 68, 71, 72, 74, 76, 82, 85],\n",
    "4: [1, 2, 4, 6, 9, 11, 12, 14, 18, 21, 29, 159, 161, 163, 44, 55, 56, 59, 60, 62],\n",
    "5: [3, 5, 7, 8, 10, 15, 16, 17, 20, 22, 158, 160, 32, 162, 34, 49, 52, 54, 57, 58, 61],\n",
    "6: [23, 25, 28, 31, 36, 37, 39, 41, 42, 46, 48, 49, 50, 51, 53, 63, 67, 69, 70, 75, 77, 78, 79, 80, 86, 90, 95, 103],\n",
    "7: [129, 137, 147, 153, 83, 89, 92, 96, 97, 99, 102, 105, 110, 111, 113, 114, 118, 120, 122, 123, 127],\n",
    "8: [133, 134, 135, 139, 141, 145, 156, 150, 152, 124, 126]}"
   ]
  },
  {
   "cell_type": "code",
   "execution_count": 12,
   "metadata": {},
   "outputs": [],
   "source": [
    "# create coloring df\n",
    "\n",
    "coloring_alex = pd.read_csv('BM/alex_upto17_RAW/alex_upto_17_RAW_colors.csv', sep=' ')\n",
    "#coloring_jones = pd.read_csv('BM/jones_upto17_SYMM/jones_upto_17_MIRRORS_colors.csv', sep=' ')"
   ]
  },
  {
   "cell_type": "code",
   "execution_count": 13,
   "metadata": {},
   "outputs": [],
   "source": [
    "coloring_alex.drop(columns=['N/A_1', 'table_number'], inplace=True)"
   ]
  },
  {
   "cell_type": "code",
   "execution_count": 14,
   "metadata": {},
   "outputs": [],
   "source": [
    "coloring_alex['custom'] = 0"
   ]
  },
  {
   "cell_type": "code",
   "execution_count": 15,
   "metadata": {},
   "outputs": [
    {
     "data": {
      "application/vnd.jupyter.widget-view+json": {
       "model_id": "50c00159a15e44fcb9aee10dca340e71",
       "version_major": 2,
       "version_minor": 0
      },
      "text/plain": [
       "  0%|          | 0/8 [00:00<?, ?it/s]"
      ]
     },
     "metadata": {},
     "output_type": "display_data"
    },
    {
     "name": "stderr",
     "output_type": "stream",
     "text": [
      "/var/folders/4s/_33kvc6507v69vbr_vy9xsjc0000gq/T/ipykernel_19408/179424969.py:7: FutureWarning: Passing a set as an indexer is deprecated and will raise in a future version. Use a list instead.\n",
      "  coloring_alex.loc[POINTS_IN_SELECTED_NODES, 'custom'] = color/10\n",
      "/var/folders/4s/_33kvc6507v69vbr_vy9xsjc0000gq/T/ipykernel_19408/179424969.py:7: FutureWarning: Passing a set as an indexer is deprecated and will raise in a future version. Use a list instead.\n",
      "  coloring_alex.loc[POINTS_IN_SELECTED_NODES, 'custom'] = color/10\n",
      "/var/folders/4s/_33kvc6507v69vbr_vy9xsjc0000gq/T/ipykernel_19408/179424969.py:7: FutureWarning: Passing a set as an indexer is deprecated and will raise in a future version. Use a list instead.\n",
      "  coloring_alex.loc[POINTS_IN_SELECTED_NODES, 'custom'] = color/10\n",
      "/var/folders/4s/_33kvc6507v69vbr_vy9xsjc0000gq/T/ipykernel_19408/179424969.py:7: FutureWarning: Passing a set as an indexer is deprecated and will raise in a future version. Use a list instead.\n",
      "  coloring_alex.loc[POINTS_IN_SELECTED_NODES, 'custom'] = color/10\n",
      "/var/folders/4s/_33kvc6507v69vbr_vy9xsjc0000gq/T/ipykernel_19408/179424969.py:7: FutureWarning: Passing a set as an indexer is deprecated and will raise in a future version. Use a list instead.\n",
      "  coloring_alex.loc[POINTS_IN_SELECTED_NODES, 'custom'] = color/10\n",
      "/var/folders/4s/_33kvc6507v69vbr_vy9xsjc0000gq/T/ipykernel_19408/179424969.py:7: FutureWarning: Passing a set as an indexer is deprecated and will raise in a future version. Use a list instead.\n",
      "  coloring_alex.loc[POINTS_IN_SELECTED_NODES, 'custom'] = color/10\n",
      "/var/folders/4s/_33kvc6507v69vbr_vy9xsjc0000gq/T/ipykernel_19408/179424969.py:7: FutureWarning: Passing a set as an indexer is deprecated and will raise in a future version. Use a list instead.\n",
      "  coloring_alex.loc[POINTS_IN_SELECTED_NODES, 'custom'] = color/10\n",
      "/var/folders/4s/_33kvc6507v69vbr_vy9xsjc0000gq/T/ipykernel_19408/179424969.py:7: FutureWarning: Passing a set as an indexer is deprecated and will raise in a future version. Use a list instead.\n",
      "  coloring_alex.loc[POINTS_IN_SELECTED_NODES, 'custom'] = color/10\n"
     ]
    }
   ],
   "source": [
    "for color in tqdm(colors_dict):\n",
    "    # get list of points in SELECTED_NODES\n",
    "    POINTS_IN_SELECTED_NODES = set()\n",
    "    for node in colors_dict[color]:\n",
    "        POINTS_IN_SELECTED_NODES = POINTS_IN_SELECTED_NODES.union(set(G1.nodes[node]['points covered']))    \n",
    "        \n",
    "    coloring_alex.loc[POINTS_IN_SELECTED_NODES, 'custom'] = color/10"
   ]
  },
  {
   "cell_type": "code",
   "execution_count": 14,
   "metadata": {},
   "outputs": [
    {
     "data": {
      "application/vnd.jupyter.widget-view+json": {
       "model_id": "138eb48ad26b4bde9eed7947c82d6fec",
       "version_major": 2,
       "version_minor": 0
      },
      "text/plain": [
       "  0%|          | 0/9755329 [00:00<?, ?it/s]"
      ]
     },
     "metadata": {},
     "output_type": "display_data"
    }
   ],
   "source": [
    "doubled_points = []\n",
    "for point_id in tqdm(coloring_alex.custom.values):\n",
    "    doubled_points.append(point_id)\n",
    "    doubled_points.append(point_id)\n",
    "    \n",
    "coloring_jones['custom'] = doubled_points"
   ]
  },
  {
   "cell_type": "code",
   "execution_count": null,
   "metadata": {},
   "outputs": [],
   "source": []
  },
  {
   "cell_type": "code",
   "execution_count": 16,
   "metadata": {},
   "outputs": [
    {
     "name": "stdout",
     "output_type": "stream",
     "text": [
      "creating GUI 1\n",
      "loading edgelist\n",
      "loading points covered\n"
     ]
    },
    {
     "data": {
      "application/vnd.jupyter.widget-view+json": {
       "model_id": "27977064437242718c777fdf920fbbc0",
       "version_major": 2,
       "version_minor": 0
      },
      "text/plain": [
       "0it [00:00, ?it/s]"
      ]
     },
     "metadata": {},
     "output_type": "display_data"
    },
    {
     "name": "stdout",
     "output_type": "stream",
     "text": [
      "computing coloring\n"
     ]
    },
    {
     "data": {
      "application/vnd.jupyter.widget-view+json": {
       "model_id": "9d847dbc758a4d938005949dd7b3ccc7",
       "version_major": 2,
       "version_minor": 0
      },
      "text/plain": [
       "  0%|          | 0/163 [00:00<?, ?it/s]"
      ]
     },
     "metadata": {},
     "output_type": "display_data"
    },
    {
     "name": "stdout",
     "output_type": "stream",
     "text": [
      "creating GUI 2\n",
      "CPU times: user 7.67 s, sys: 877 ms, total: 8.54 s\n",
      "Wall time: 8.58 s\n"
     ]
    }
   ],
   "source": [
    "%%time\n",
    "# create a GUI with input our BM graph, \n",
    "# a dataframe with coloring functions (one value per point in the pointcloud)\n",
    "# and a color palette\n",
    "# in this case we use the pointcloud as coloring function\n",
    "print('creating GUI 1')\n",
    "\n",
    "G1 = read_graph_from_list(GRAPH1_PATH, GRAPH1_POINTS_PATH,\n",
    "                          values_df=coloring_alex,\n",
    "                          add_points_covered=False\n",
    "                          )\n",
    "\n",
    "my_fancy_gui_1 = graph_GUI(G1, my_red_palette, \n",
    "                         figsize=(800, 600),\n",
    "                         render_iterations=2000,\n",
    "                           render_seed=66,\n",
    "                         coloring_variables=[])\n",
    "\n",
    "print('creating GUI 2')\n",
    "\n"
   ]
  },
  {
   "cell_type": "code",
   "execution_count": 17,
   "metadata": {},
   "outputs": [
    {
     "name": "stdout",
     "output_type": "stream",
     "text": [
      "color by variable custom \n",
      "MIN_VALUE: 0.000, MAX_VALUE: 0.800\n"
     ]
    },
    {
     "data": {
      "text/plain": [
       "(0, 0.8000000000000002)"
      ]
     },
     "execution_count": 17,
     "metadata": {},
     "output_type": "execute_result"
    }
   ],
   "source": [
    "my_fancy_gui_1.color_by_variable('custom')"
   ]
  },
  {
   "cell_type": "code",
   "execution_count": 18,
   "metadata": {},
   "outputs": [],
   "source": [
    "show(my_fancy_gui_1.plot)"
   ]
  },
  {
   "cell_type": "code",
   "execution_count": null,
   "metadata": {},
   "outputs": [],
   "source": []
  },
  {
   "cell_type": "code",
   "execution_count": null,
   "metadata": {},
   "outputs": [
    {
     "name": "stdout",
     "output_type": "stream",
     "text": [
      "loading edgelist\n",
      "loading points covered\n"
     ]
    },
    {
     "data": {
      "application/vnd.jupyter.widget-view+json": {
       "model_id": "847f399a1553459ba1c4e7791b670bad",
       "version_major": 2,
       "version_minor": 0
      },
      "text/plain": [
       "0it [00:00, ?it/s]"
      ]
     },
     "metadata": {},
     "output_type": "display_data"
    },
    {
     "name": "stdout",
     "output_type": "stream",
     "text": [
      "computing coloring\n"
     ]
    },
    {
     "data": {
      "application/vnd.jupyter.widget-view+json": {
       "model_id": "2248546cd8634a32ab0f87ce19b8c210",
       "version_major": 2,
       "version_minor": 0
      },
      "text/plain": [
       "  0%|          | 0/890 [00:00<?, ?it/s]"
      ]
     },
     "metadata": {},
     "output_type": "display_data"
    }
   ],
   "source": [
    "G2 = read_graph_from_list(GRAPH2_PATH, GRAPH2_POINTS_PATH,\n",
    "                          values_df=coloring_jones,\n",
    "                          add_points_covered=False\n",
    "                          )\n",
    "\n",
    "my_fancy_gui_2 = graph_GUI(G2, my_red_palette, \n",
    "                         figsize=(800, 600),\n",
    "                         render_iterations=2000,\n",
    "                          coloring_variables=[])"
   ]
  },
  {
   "cell_type": "code",
   "execution_count": null,
   "metadata": {},
   "outputs": [],
   "source": [
    "my_fancy_gui_2.color_by_variable('custom')"
   ]
  },
  {
   "cell_type": "code",
   "execution_count": null,
   "metadata": {},
   "outputs": [],
   "source": [
    "show(my_fancy_gui_2.plot)"
   ]
  },
  {
   "cell_type": "code",
   "execution_count": null,
   "metadata": {},
   "outputs": [],
   "source": []
  },
  {
   "cell_type": "code",
   "execution_count": null,
   "metadata": {},
   "outputs": [],
   "source": []
  },
  {
   "cell_type": "code",
   "execution_count": null,
   "metadata": {},
   "outputs": [],
   "source": []
  },
  {
   "cell_type": "code",
   "execution_count": null,
   "metadata": {},
   "outputs": [],
   "source": [
    "jones_upto_15_30_signature"
   ]
  },
  {
   "cell_type": "code",
   "execution_count": null,
   "metadata": {},
   "outputs": [],
   "source": []
  },
  {
   "cell_type": "markdown",
   "metadata": {},
   "source": [
    "# JONES vs KHOV 15n"
   ]
  },
  {
   "cell_type": "code",
   "execution_count": null,
   "metadata": {},
   "outputs": [],
   "source": [
    "#Here we adopt standard colour palette\n",
    "#my_red_palette = cm.get_cmap(name='jet')\n",
    "my_red_palette = cm.get_cmap(name='Reds')"
   ]
  },
  {
   "cell_type": "code",
   "execution_count": null,
   "metadata": {},
   "outputs": [],
   "source": [
    "# Prepare Data\n",
    "\n",
    "# adj lists path\n",
    "GRAPH1_PATH = 'BM/jones_fromKhov_upto_15n_SYMM/30_edges'\n",
    "GRAPH2_PATH = 'BM/khov_upto_15n_SYMM/20_edges'\n",
    "\n",
    "# point covered by each node path\n",
    "GRAPH1_POINTS_PATH = 'BM/jones_fromKhov_upto_15n_SYMM/30_points_covered_by_landmarks'\n",
    "GRAPH2_POINTS_PATH = 'BM/khov_upto_15n_SYMM/20_points_covered_by_landmarks'\n",
    "\n",
    "###########\n",
    "# GRAPH 1 #\n",
    "###########\n",
    "\n",
    "# read graph\n",
    "# ASSUME NODES ARE NUMBERED FROM 1 TO N\n",
    "G1 = read_graph_from_list(GRAPH1_PATH, GRAPH1_POINTS_PATH, add_points_covered=True)\n",
    "\n",
    "###########\n",
    "# GRAPH 2 #\n",
    "###########\n",
    "G2 = read_graph_from_list(GRAPH2_PATH, GRAPH2_POINTS_PATH, add_points_covered=True)"
   ]
  },
  {
   "cell_type": "code",
   "execution_count": null,
   "metadata": {},
   "outputs": [],
   "source": [
    "# colors_dict = {8: [295, 296, 171, 172, 237, 238, 307, 308],\n",
    "#                6: [133, 166, 134, 165, 301, 302, 181, 182, 247, 248],\n",
    "#                4: [97, 98, 163, 164, 91, 123, 141, 142, 92, 124, 51, 52, 281, 282, 283, 284, 189, 190],\n",
    "#                2: [45, 46, 53, 54, 151, 152, 29, 30]\n",
    "#               }"
   ]
  },
  {
   "cell_type": "code",
   "execution_count": null,
   "metadata": {},
   "outputs": [],
   "source": [
    "colors_dict = {1: [133, 134, 11, 12, 141, 142, 273, 274, 147, 148, 151, \n",
    "                   152, 281, 282, 283, 284, 29, 30, 163, 164, 165, 166,\n",
    "                   295, 296, 171, 172, 45, 46, 301, 302, 51, 52, 53, 54, \n",
    "                   181, 182, 307, 308, 189, 190, 91, 92, 97, 98, 237, \n",
    "                   238, 247, 248, 123, 124]\n",
    "              }"
   ]
  },
  {
   "cell_type": "code",
   "execution_count": null,
   "metadata": {},
   "outputs": [],
   "source": [
    "# create coloring df\n",
    "coloring_jones = pd.read_csv('BM/jones_fromKhov_upto_15n_SYMM/Jones_fromKhov_upto_15n_MIRRORS_colors.csv', sep=' ')\n",
    "coloring_jones"
   ]
  },
  {
   "cell_type": "code",
   "execution_count": null,
   "metadata": {},
   "outputs": [],
   "source": [
    "coloring_jones['custom'] = 0"
   ]
  },
  {
   "cell_type": "code",
   "execution_count": null,
   "metadata": {},
   "outputs": [],
   "source": [
    "for color in tqdm(colors_dict):\n",
    "    # get list of points in SELECTED_NODES\n",
    "    POINTS_IN_SELECTED_NODES = set()\n",
    "    for node in colors_dict[color]:\n",
    "        POINTS_IN_SELECTED_NODES = POINTS_IN_SELECTED_NODES.union(set(G1.nodes[node]['points covered']))    \n",
    "        \n",
    "    coloring_jones.loc[POINTS_IN_SELECTED_NODES, 'custom'] = color"
   ]
  },
  {
   "cell_type": "code",
   "execution_count": null,
   "metadata": {},
   "outputs": [],
   "source": [
    "%%time\n",
    "# create a GUI with input our BM graph, \n",
    "# a dataframe with coloring functions (one value per point in the pointcloud)\n",
    "# and a color palette\n",
    "# in this case we use the pointcloud as coloring function\n",
    "print('creating GUI 1')\n",
    "\n",
    "G1 = read_graph_from_list(GRAPH1_PATH, GRAPH1_POINTS_PATH,\n",
    "                          values_df=coloring_jones[['custom', 'signature']],\n",
    "                          add_points_covered=False\n",
    "                          )\n",
    "\n",
    "my_fancy_gui_1 = graph_GUI(G1, my_red_palette, \n",
    "                           figsize=(800, 600),\n",
    "                           render_iterations=2000,\n",
    "                           render_seed=66,\n",
    "                           coloring_variables=['custom', 'signature'])"
   ]
  },
  {
   "cell_type": "code",
   "execution_count": null,
   "metadata": {},
   "outputs": [],
   "source": [
    "my_fancy_gui_1.color_by_variable('custom')"
   ]
  },
  {
   "cell_type": "code",
   "execution_count": null,
   "metadata": {},
   "outputs": [],
   "source": [
    "for node in my_fancy_gui_1.bokeh_graph:\n",
    "    if my_fancy_gui_1.bokeh_graph.nodes[node]['custom'] != 1:\n",
    "        my_fancy_gui_1.bokeh_graph.nodes[node]['color'] = 'white'\n",
    "        \n",
    "my_fancy_gui_1.graph_renderer.node_renderer.data_source.data['color'] = [my_fancy_gui_1.bokeh_graph.nodes[n]['color']\n",
    "                                                                         for n in my_fancy_gui_1.bokeh_graph.nodes]"
   ]
  },
  {
   "cell_type": "code",
   "execution_count": null,
   "metadata": {},
   "outputs": [],
   "source": [
    "show(my_fancy_gui_1.plot)"
   ]
  },
  {
   "cell_type": "code",
   "execution_count": null,
   "metadata": {},
   "outputs": [],
   "source": []
  },
  {
   "cell_type": "code",
   "execution_count": null,
   "metadata": {},
   "outputs": [],
   "source": [
    "print('creating GUI 2')\n",
    "\n",
    "G2 = read_graph_from_list(GRAPH2_PATH, GRAPH2_POINTS_PATH,\n",
    "                          values_df=coloring_jones[['custom', 'signature']],\n",
    "                          add_points_covered=False\n",
    "                          )\n",
    "\n",
    "my_fancy_gui_2 = graph_GUI(G2, my_red_palette, \n",
    "                           figsize=(800, 600),\n",
    "                           render_iterations=2000,\n",
    "                           coloring_variables=['custom', 'signature'])"
   ]
  },
  {
   "cell_type": "code",
   "execution_count": null,
   "metadata": {},
   "outputs": [],
   "source": [
    "my_fancy_gui_2.color_by_variable('custom', MAX_VALUE=1)"
   ]
  },
  {
   "cell_type": "code",
   "execution_count": null,
   "metadata": {},
   "outputs": [],
   "source": [
    "# for node in my_fancy_gui_2.bokeh_graph:\n",
    "#     if my_fancy_gui_2.bokeh_graph.nodes[node]['custom'] == 0:\n",
    "#         my_fancy_gui_2.bokeh_graph.nodes[node]['color'] = 'white'\n",
    "        \n",
    "# my_fancy_gui_2.graph_renderer.node_renderer.data_source.data['color'] = [my_fancy_gui_2.bokeh_graph.nodes[n]['color']\n",
    "#                                                                          for n in my_fancy_gui_2.bokeh_graph.nodes]"
   ]
  },
  {
   "cell_type": "code",
   "execution_count": null,
   "metadata": {},
   "outputs": [],
   "source": [
    "show(my_fancy_gui_2.plot)"
   ]
  },
  {
   "cell_type": "code",
   "execution_count": null,
   "metadata": {},
   "outputs": [],
   "source": []
  },
  {
   "cell_type": "code",
   "execution_count": null,
   "metadata": {},
   "outputs": [],
   "source": []
  },
  {
   "cell_type": "code",
   "execution_count": null,
   "metadata": {},
   "outputs": [],
   "source": []
  },
  {
   "cell_type": "code",
   "execution_count": null,
   "metadata": {},
   "outputs": [],
   "source": []
  },
  {
   "cell_type": "markdown",
   "metadata": {},
   "source": [
    "# JONES vs HOMFLY"
   ]
  },
  {
   "cell_type": "code",
   "execution_count": null,
   "metadata": {},
   "outputs": [],
   "source": [
    "#Here we adopt standard colour palette\n",
    "#my_red_palette = cm.get_cmap(name='jet')\n",
    "my_red_palette = cm.get_cmap(name='Reds')"
   ]
  },
  {
   "cell_type": "code",
   "execution_count": null,
   "metadata": {},
   "outputs": [],
   "source": [
    "# Prepare Data\n",
    "\n",
    "# adj lists path\n",
    "GRAPH1_PATH = 'BM/jones_upto_15_SYMM//50_edges'\n",
    "GRAPH2_PATH = 'BM/homfly_upto_15_SYMM//50_edges'\n",
    "\n",
    "# point covered by each node path\n",
    "GRAPH1_POINTS_PATH = 'BM/jones_upto_15_SYMM/50_points_covered_by_landmarks'\n",
    "GRAPH2_POINTS_PATH = 'BM/homfly_upto_15_SYMM/50_points_covered_by_landmarks'\n",
    "\n",
    "###########\n",
    "# GRAPH 1 #\n",
    "###########\n",
    "\n",
    "# read graph\n",
    "# ASSUME NODES ARE NUMBERED FROM 1 TO N\n",
    "G1 = read_graph_from_list(GRAPH1_PATH, GRAPH1_POINTS_PATH, add_points_covered=True)\n",
    "\n",
    "###########\n",
    "# GRAPH 2 #\n",
    "###########\n",
    "#G2 = read_graph_from_list(GRAPH2_PATH, GRAPH2_POINTS_PATH, add_points_covered=True)"
   ]
  },
  {
   "cell_type": "code",
   "execution_count": null,
   "metadata": {},
   "outputs": [],
   "source": [
    "selected = [131, 132, 5, 6, 141, 142, 13, 14, 275, 276, 155, 156, 283, \n",
    "            284, 29, 32, 30, 31, 45, 46, 175, 176, 61, 62, 79, 80, \n",
    "            211, 212, 83, 84, 217, 218, 97, 98, 105, 106, 111, 112, 115, 116, 249, 250]\n",
    "\n",
    "colors_dict = {1: selected,\n",
    "               0: [node for node in G1.nodes if node not in selected]}"
   ]
  },
  {
   "cell_type": "code",
   "execution_count": null,
   "metadata": {},
   "outputs": [],
   "source": [
    "# create coloring df\n",
    "coloring_jones = pd.read_csv('BM/jones_upto_15_SYMM/jones_upto_15_MIRRORS_colors.csv', sep=' ')\n",
    "coloring_jones"
   ]
  },
  {
   "cell_type": "code",
   "execution_count": null,
   "metadata": {},
   "outputs": [],
   "source": [
    "coloring_HOMFLY = pd.read_csv('BM/homfly_upto_15_SYMM//HOMFLYPT_upto_15_MIRRORS_colors.csv', sep=' ')\n",
    "coloring_HOMFLY"
   ]
  },
  {
   "cell_type": "code",
   "execution_count": null,
   "metadata": {},
   "outputs": [],
   "source": [
    "(coloring_jones['signature'] == coloring_HOMFLY['signature']).all()"
   ]
  },
  {
   "cell_type": "code",
   "execution_count": null,
   "metadata": {},
   "outputs": [],
   "source": [
    "coloring_jones['custom'] = 0"
   ]
  },
  {
   "cell_type": "code",
   "execution_count": null,
   "metadata": {},
   "outputs": [],
   "source": [
    "for color in tqdm(colors_dict):\n",
    "    # get list of points in SELECTED_NODES\n",
    "    POINTS_IN_SELECTED_NODES = set()\n",
    "    for node in colors_dict[color]:\n",
    "        POINTS_IN_SELECTED_NODES = POINTS_IN_SELECTED_NODES.union(set(G1.nodes[node]['points covered']))    \n",
    "        \n",
    "    coloring_jones.loc[POINTS_IN_SELECTED_NODES, 'custom'] = color"
   ]
  },
  {
   "cell_type": "code",
   "execution_count": null,
   "metadata": {},
   "outputs": [],
   "source": []
  },
  {
   "cell_type": "code",
   "execution_count": null,
   "metadata": {},
   "outputs": [],
   "source": [
    "%%time\n",
    "# create a GUI with input our BM graph, \n",
    "# a dataframe with coloring functions (one value per point in the pointcloud)\n",
    "# and a color palette\n",
    "# in this case we use the pointcloud as coloring function\n",
    "print('creating GUI 1')\n",
    "\n",
    "G1 = read_graph_from_list(GRAPH1_PATH, GRAPH1_POINTS_PATH,\n",
    "                          values_df=coloring_jones[['signature', 'custom']],\n",
    "                          add_points_covered=False\n",
    "                          )\n",
    "\n",
    "my_fancy_gui_1 = graph_GUI(G1, my_red_palette, \n",
    "                         figsize=(800, 600),\n",
    "                         render_iterations=2500,\n",
    "                         render_seed=42,\n",
    "                         coloring_variables=['signature', 'custom'])"
   ]
  },
  {
   "cell_type": "code",
   "execution_count": null,
   "metadata": {},
   "outputs": [],
   "source": [
    "my_fancy_gui_1.color_by_variable('custom')"
   ]
  },
  {
   "cell_type": "code",
   "execution_count": null,
   "metadata": {},
   "outputs": [],
   "source": [
    "show(my_fancy_gui_1.plot)"
   ]
  },
  {
   "cell_type": "code",
   "execution_count": null,
   "metadata": {},
   "outputs": [],
   "source": []
  },
  {
   "cell_type": "code",
   "execution_count": null,
   "metadata": {},
   "outputs": [],
   "source": []
  },
  {
   "cell_type": "code",
   "execution_count": null,
   "metadata": {},
   "outputs": [],
   "source": [
    "print('creating GUI 2')\n",
    "\n",
    "G2 = read_graph_from_list(GRAPH2_PATH, GRAPH2_POINTS_PATH,\n",
    "                          values_df=coloring_jones[['signature', 'custom']],\n",
    "                          add_points_covered=False\n",
    "                          )\n",
    "\n",
    "my_fancy_gui_2 = graph_GUI(G2, my_red_palette, \n",
    "                         figsize=(800, 600),\n",
    "                         render_iterations=2000,\n",
    "                         render_seed=42,\n",
    "                         coloring_variables=['signature'])"
   ]
  },
  {
   "cell_type": "code",
   "execution_count": null,
   "metadata": {},
   "outputs": [],
   "source": [
    "my_fancy_gui_2.color_by_variable('custom')"
   ]
  },
  {
   "cell_type": "code",
   "execution_count": null,
   "metadata": {},
   "outputs": [],
   "source": [
    "show(my_fancy_gui_2.plot)"
   ]
  },
  {
   "cell_type": "code",
   "execution_count": null,
   "metadata": {},
   "outputs": [],
   "source": []
  },
  {
   "cell_type": "code",
   "execution_count": null,
   "metadata": {},
   "outputs": [],
   "source": []
  }
 ],
 "metadata": {
  "kernelspec": {
   "display_name": "tda",
   "language": "python",
   "name": "python3"
  },
  "language_info": {
   "codemirror_mode": {
    "name": "ipython",
    "version": 3
   },
   "file_extension": ".py",
   "mimetype": "text/x-python",
   "name": "python",
   "nbconvert_exporter": "python",
   "pygments_lexer": "ipython3",
   "version": "3.10.8"
  },
  "vscode": {
   "interpreter": {
    "hash": "de9fe0ce6b873e2013b33bc1f4f40bac445a25d45f265babfcca256e207bbd69"
   }
  }
 },
 "nbformat": 4,
 "nbformat_minor": 4
}
