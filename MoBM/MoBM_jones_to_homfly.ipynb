{
 "cells": [
  {
   "cell_type": "code",
   "execution_count": 1,
   "metadata": {},
   "outputs": [],
   "source": [
    "import numpy as np\n",
    "import pandas as pd\n",
    "import pickle"
   ]
  },
  {
   "cell_type": "code",
   "execution_count": 2,
   "metadata": {},
   "outputs": [],
   "source": [
    "import sys\n",
    "sys.path.append('../')"
   ]
  },
  {
   "cell_type": "code",
   "execution_count": 3,
   "metadata": {},
   "outputs": [],
   "source": [
    "from pyballmapper.ballmapper import BallMapper"
   ]
  },
  {
   "cell_type": "code",
   "execution_count": 5,
   "metadata": {},
   "outputs": [
    {
     "name": "stdout",
     "output_type": "stream",
     "text": [
      "loading jones\n",
      "(626462, 59)\n"
     ]
    }
   ],
   "source": [
    "print('loading jones')\n",
    "jones_df = pd.read_csv('../data/parsed/Jones/Jones_upto_15_MIRRORS.csv')\n",
    "print(jones_df.shape)"
   ]
  },
  {
   "cell_type": "code",
   "execution_count": null,
   "metadata": {},
   "outputs": [],
   "source": [
    "X = jones_df[jones_df.columns[8:]].to_numpy()\n",
    "y = jones_df[['number_of_crossings', 'is_alternating', 'signature']]"
   ]
  },
  {
   "cell_type": "code",
   "execution_count": null,
   "metadata": {},
   "outputs": [],
   "source": [
    "orbits = [] \n",
    "\n",
    "for i in range(0, len(X), 2):\n",
    "    orbits.append([i, i+1])\n",
    "    orbits.append([i+1, i])"
   ]
  },
  {
   "cell_type": "code",
   "execution_count": null,
   "metadata": {},
   "outputs": [],
   "source": [
    "for eps in [50, 40, 30]:\n",
    "    jones_BM = BallMapper(X, eps=eps, dbg=True)\n",
    "\n",
    "    for node in jones_BM.Graph.nodes:\n",
    "        jones_BM.Graph.nodes[node]['points covered'] = np.array(jones_BM.Graph.nodes[node]['points covered'])\n",
    "\n",
    "    with open('pkl/jones_{}.pkl'.format(eps), 'wb') as f:\n",
    "        pickle.dump(jones_BM, f)"
   ]
  },
  {
   "cell_type": "markdown",
   "metadata": {},
   "source": [
    "## MoBM homfly"
   ]
  },
  {
   "cell_type": "code",
   "execution_count": null,
   "metadata": {},
   "outputs": [],
   "source": [
    "print()\n",
    "print('read homfly')\n",
    "homfly_df = pd.read_csv('../data/parsed/HOMFLYPT/HomflyPt_upto_15_MIRRORS.csv')\n",
    "print(homfly_df.shape)"
   ]
  },
  {
   "cell_type": "code",
   "execution_count": null,
   "metadata": {},
   "outputs": [],
   "source": [
    "X_h = homfly_df[homfly_df.columns[6:]].to_numpy()"
   ]
  },
  {
   "cell_type": "code",
   "execution_count": null,
   "metadata": {},
   "outputs": [],
   "source": [
    "from pyballmapper.ballmapper import mapper_on_BM"
   ]
  },
  {
   "cell_type": "code",
   "execution_count": null,
   "metadata": {},
   "outputs": [],
   "source": [
    "for j_eps in [50, 30, 40]:\n",
    "    print(j_eps)\n",
    "    with open('pkl/jones_{}.pkl'.format(j_eps), 'rb') as f:\n",
    "        jones_BM = pikle.load(jones_BM)\n",
    "\n",
    "    for eps_db in [40, 30, 20]:\n",
    "        print('    ', eps_db)\n",
    "        mobm = mapper_on_BM(jones_BM.Graph, X_h, eps_db, min_samples=1, dbscan_metric='euclidean', sparse=False, dbg=True)\n",
    "\n",
    "        with open('pkl/mobm_{}_{}.pkl'.format(j_eps, eps_db), 'wb') as f:\n",
    "            pickle.dump(mobm, f)"
   ]
  },
  {
   "cell_type": "code",
   "execution_count": null,
   "metadata": {},
   "outputs": [],
   "source": []
  }
 ],
 "metadata": {
  "kernelspec": {
   "display_name": "knots",
   "language": "python",
   "name": "python3"
  },
  "language_info": {
   "codemirror_mode": {
    "name": "ipython",
    "version": 3
   },
   "file_extension": ".py",
   "mimetype": "text/x-python",
   "name": "python",
   "nbconvert_exporter": "python",
   "pygments_lexer": "ipython3",
   "version": "3.9.13"
  },
  "orig_nbformat": 4,
  "vscode": {
   "interpreter": {
    "hash": "30434cb9c1aee1e0b71a087eb7f566a80fbdf8f25b08ac5af0432b9ba7f5ea43"
   }
  }
 },
 "nbformat": 4,
 "nbformat_minor": 2
}
